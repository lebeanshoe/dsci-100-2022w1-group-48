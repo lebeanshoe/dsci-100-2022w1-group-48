{
 "cells": [
  {
   "cell_type": "code",
   "execution_count": 1,
   "id": "d06c0103-417a-4cd4-b864-41198b0f9b09",
   "metadata": {},
   "outputs": [
    {
     "name": "stderr",
     "output_type": "stream",
     "text": [
      "── \u001b[1mAttaching packages\u001b[22m ─────────────────────────────────────── tidyverse 1.3.1 ──\n",
      "\n",
      "\u001b[32m✔\u001b[39m \u001b[34mggplot2\u001b[39m 3.3.6     \u001b[32m✔\u001b[39m \u001b[34mpurrr  \u001b[39m 0.3.4\n",
      "\u001b[32m✔\u001b[39m \u001b[34mtibble \u001b[39m 3.1.7     \u001b[32m✔\u001b[39m \u001b[34mdplyr  \u001b[39m 1.0.9\n",
      "\u001b[32m✔\u001b[39m \u001b[34mtidyr  \u001b[39m 1.2.0     \u001b[32m✔\u001b[39m \u001b[34mstringr\u001b[39m 1.4.0\n",
      "\u001b[32m✔\u001b[39m \u001b[34mreadr  \u001b[39m 2.1.2     \u001b[32m✔\u001b[39m \u001b[34mforcats\u001b[39m 0.5.1\n",
      "\n",
      "── \u001b[1mConflicts\u001b[22m ────────────────────────────────────────── tidyverse_conflicts() ──\n",
      "\u001b[31m✖\u001b[39m \u001b[34mdplyr\u001b[39m::\u001b[32mfilter()\u001b[39m masks \u001b[34mstats\u001b[39m::filter()\n",
      "\u001b[31m✖\u001b[39m \u001b[34mdplyr\u001b[39m::\u001b[32mlag()\u001b[39m    masks \u001b[34mstats\u001b[39m::lag()\n",
      "\n",
      "── \u001b[1mAttaching packages\u001b[22m ────────────────────────────────────── tidymodels 1.0.0 ──\n",
      "\n",
      "\u001b[32m✔\u001b[39m \u001b[34mbroom       \u001b[39m 1.0.0     \u001b[32m✔\u001b[39m \u001b[34mrsample     \u001b[39m 1.0.0\n",
      "\u001b[32m✔\u001b[39m \u001b[34mdials       \u001b[39m 1.0.0     \u001b[32m✔\u001b[39m \u001b[34mtune        \u001b[39m 1.0.0\n",
      "\u001b[32m✔\u001b[39m \u001b[34minfer       \u001b[39m 1.0.2     \u001b[32m✔\u001b[39m \u001b[34mworkflows   \u001b[39m 1.0.0\n",
      "\u001b[32m✔\u001b[39m \u001b[34mmodeldata   \u001b[39m 1.0.0     \u001b[32m✔\u001b[39m \u001b[34mworkflowsets\u001b[39m 1.0.0\n",
      "\u001b[32m✔\u001b[39m \u001b[34mparsnip     \u001b[39m 1.0.0     \u001b[32m✔\u001b[39m \u001b[34myardstick   \u001b[39m 1.0.0\n",
      "\u001b[32m✔\u001b[39m \u001b[34mrecipes     \u001b[39m 1.0.1     \n",
      "\n",
      "── \u001b[1mConflicts\u001b[22m ───────────────────────────────────────── tidymodels_conflicts() ──\n",
      "\u001b[31m✖\u001b[39m \u001b[34mscales\u001b[39m::\u001b[32mdiscard()\u001b[39m masks \u001b[34mpurrr\u001b[39m::discard()\n",
      "\u001b[31m✖\u001b[39m \u001b[34mdplyr\u001b[39m::\u001b[32mfilter()\u001b[39m   masks \u001b[34mstats\u001b[39m::filter()\n",
      "\u001b[31m✖\u001b[39m \u001b[34mrecipes\u001b[39m::\u001b[32mfixed()\u001b[39m  masks \u001b[34mstringr\u001b[39m::fixed()\n",
      "\u001b[31m✖\u001b[39m \u001b[34mdplyr\u001b[39m::\u001b[32mlag()\u001b[39m      masks \u001b[34mstats\u001b[39m::lag()\n",
      "\u001b[31m✖\u001b[39m \u001b[34myardstick\u001b[39m::\u001b[32mspec()\u001b[39m masks \u001b[34mreadr\u001b[39m::spec()\n",
      "\u001b[31m✖\u001b[39m \u001b[34mrecipes\u001b[39m::\u001b[32mstep()\u001b[39m   masks \u001b[34mstats\u001b[39m::step()\n",
      "\u001b[34m•\u001b[39m Learn how to get started at \u001b[32mhttps://www.tidymodels.org/start/\u001b[39m\n",
      "\n",
      "Registered S3 method overwritten by 'GGally':\n",
      "  method from   \n",
      "  +.gg   ggplot2\n",
      "\n"
     ]
    }
   ],
   "source": [
    "library(tidyverse)\n",
    "library(tidymodels)\n",
    "library(RColorBrewer)\n",
    "library(cowplot)\n",
    "library(GGally)"
   ]
  },
  {
   "cell_type": "code",
   "execution_count": 2,
   "id": "0e161972-f77d-4132-914d-55ed8e25c9aa",
   "metadata": {},
   "outputs": [
    {
     "name": "stderr",
     "output_type": "stream",
     "text": [
      "\u001b[1mRows: \u001b[22m\u001b[34m303\u001b[39m \u001b[1mColumns: \u001b[22m\u001b[34m14\u001b[39m\n",
      "\u001b[36m──\u001b[39m \u001b[1mColumn specification\u001b[22m \u001b[36m────────────────────────────────────────────────────────\u001b[39m\n",
      "\u001b[1mDelimiter:\u001b[22m \",\"\n",
      "\u001b[31mchr\u001b[39m  (2): X12, X13\n",
      "\u001b[32mdbl\u001b[39m (12): X1, X2, X3, X4, X5, X6, X7, X8, X9, X10, X11, X14\n",
      "\n",
      "\u001b[36mℹ\u001b[39m Use `spec()` to retrieve the full column specification for this data.\n",
      "\u001b[36mℹ\u001b[39m Specify the column types or set `show_col_types = FALSE` to quiet this message.\n",
      "\u001b[1mRows: \u001b[22m\u001b[34m294\u001b[39m \u001b[1mColumns: \u001b[22m\u001b[34m14\u001b[39m\n",
      "\u001b[36m──\u001b[39m \u001b[1mColumn specification\u001b[22m \u001b[36m────────────────────────────────────────────────────────\u001b[39m\n",
      "\u001b[1mDelimiter:\u001b[22m \",\"\n",
      "\u001b[31mchr\u001b[39m (9): X4, X5, X6, X7, X8, X9, X11, X12, X13\n",
      "\u001b[32mdbl\u001b[39m (5): X1, X2, X3, X10, X14\n",
      "\n",
      "\u001b[36mℹ\u001b[39m Use `spec()` to retrieve the full column specification for this data.\n",
      "\u001b[36mℹ\u001b[39m Specify the column types or set `show_col_types = FALSE` to quiet this message.\n",
      "\u001b[1mRows: \u001b[22m\u001b[34m123\u001b[39m \u001b[1mColumns: \u001b[22m\u001b[34m14\u001b[39m\n",
      "\u001b[36m──\u001b[39m \u001b[1mColumn specification\u001b[22m \u001b[36m────────────────────────────────────────────────────────\u001b[39m\n",
      "\u001b[1mDelimiter:\u001b[22m \",\"\n",
      "\u001b[31mchr\u001b[39m (9): X4, X6, X7, X8, X9, X10, X11, X12, X13\n",
      "\u001b[32mdbl\u001b[39m (5): X1, X2, X3, X5, X14\n",
      "\n",
      "\u001b[36mℹ\u001b[39m Use `spec()` to retrieve the full column specification for this data.\n",
      "\u001b[36mℹ\u001b[39m Specify the column types or set `show_col_types = FALSE` to quiet this message.\n",
      "\u001b[1mRows: \u001b[22m\u001b[34m200\u001b[39m \u001b[1mColumns: \u001b[22m\u001b[34m14\u001b[39m\n",
      "\u001b[36m──\u001b[39m \u001b[1mColumn specification\u001b[22m \u001b[36m────────────────────────────────────────────────────────\u001b[39m\n",
      "\u001b[1mDelimiter:\u001b[22m \",\"\n",
      "\u001b[31mchr\u001b[39m (9): X4, X5, X6, X8, X9, X10, X11, X12, X13\n",
      "\u001b[32mdbl\u001b[39m (5): X1, X2, X3, X7, X14\n",
      "\n",
      "\u001b[36mℹ\u001b[39m Use `spec()` to retrieve the full column specification for this data.\n",
      "\u001b[36mℹ\u001b[39m Specify the column types or set `show_col_types = FALSE` to quiet this message.\n"
     ]
    }
   ],
   "source": [
    "cleveland <- read_csv(\"https://archive.ics.uci.edu/ml/machine-learning-databases/heart-disease/processed.cleveland.data\", col_names = FALSE)\n",
    "hungarian <- read_csv(\"https://archive.ics.uci.edu/ml/machine-learning-databases/heart-disease/processed.hungarian.data\", col_names = FALSE)\n",
    "switzerland <- read_csv(\"https://archive.ics.uci.edu/ml/machine-learning-databases/heart-disease/processed.switzerland.data\", col_names = FALSE)\n",
    "va <- read_csv(\"https://archive.ics.uci.edu/ml/machine-learning-databases/heart-disease/processed.va.data\", col_names = FALSE)"
   ]
  },
  {
   "cell_type": "code",
   "execution_count": 3,
   "id": "4f91e988-c47b-47bf-8367-0cd180f370b1",
   "metadata": {},
   "outputs": [],
   "source": [
    "#Adding an origin category for each row\n",
    "cleveland_data <- mutate(cleveland, Origin = \"cleveland\")\n",
    "hungarian_data <- mutate(hungarian, Origin = \"hungarian\")\n",
    "switzerland_data <- mutate(switzerland, Origin = \"switzerland\")\n",
    "va_data <- mutate(va, Origin = \"longbeach\")\n",
    "\n",
    "#Combining the data into one mega data set\n",
    "mega <- rbind(cleveland_data, hungarian_data, switzerland_data, va_data)\n",
    "\n",
    "#Adding names to each column\n",
    "column_names = c(\"age\", \n",
    "                 \"sex\", \n",
    "                 \"X3\", \n",
    "                 \"X4\", \n",
    "                 \"X5\", \n",
    "                 \"X6\", \n",
    "                 \"X7\", \n",
    "                 \"X8\", \n",
    "                 \"exercise_induced_angina\", \n",
    "                 \"st_depression\", \n",
    "                 \"st_segment_slope\", \n",
    "                 \"X12\", \n",
    "                 \"thalassemia\", \n",
    "                 \"presence_of_cvd\", \n",
    "                 \"origin\"\n",
    "                )\n",
    "colnames(mega) <- column_names\n",
    "\n",
    "#Selecting the columns of interest\n",
    "mega_data <- mega |> \n",
    "                select(age, sex, exercise_induced_angina, st_depression, st_segment_slope, thalassemia, presence_of_cvd, origin)\n",
    "\n",
    "#Removing all rows that with at least one missing variable in any column.\n",
    "tidy_data <- mega_data |> \n",
    "                filter(exercise_induced_angina != \"?\" & st_depression != \"?\" & st_segment_slope != \"?\" & thalassemia != \"?\")\n",
    "\n",
    "#Combining heart severity levels 1 to 4 into one measurement and converting variables in presence_of_cvd into \"Yes\" or \"No\"\n",
    "severity_1_to_4 <- tidy_data |> \n",
    "                    filter(presence_of_cvd != 0) |> \n",
    "                    mutate(presence_of_cvd = \"Yes\")\n",
    "\n",
    "tidy_data <- tidy_data |> \n",
    "                filter(presence_of_cvd == 0) |> \n",
    "                mutate(presence_of_cvd = \"No\") |> \n",
    "                rbind(severity_1_to_4)\n",
    "\n",
    "# Converting variables into proper data types\n",
    "tidy_data <- tidy_data |> \n",
    "                mutate(presence_of_cvd = as.factor(presence_of_cvd),\n",
    "                       exercise_induced_angina = as.double(exercise_induced_angina),\n",
    "                       st_depression = as.double(st_depression),\n",
    "                       st_segment_slope = as.double(st_segment_slope),\n",
    "                       thalassemia = as.double(thalassemia)\n",
    "                       )"
   ]
  },
  {
   "cell_type": "code",
   "execution_count": 4,
   "id": "a998d1f2-e703-4e7e-8986-23622a78acb1",
   "metadata": {},
   "outputs": [
    {
     "data": {
      "text/html": [
       "<table class=\"dataframe\">\n",
       "<caption>A tibble: 6 × 8</caption>\n",
       "<thead>\n",
       "\t<tr><th scope=col>age</th><th scope=col>sex</th><th scope=col>exercise_induced_angina</th><th scope=col>st_depression</th><th scope=col>st_segment_slope</th><th scope=col>thalassemia</th><th scope=col>presence_of_cvd</th><th scope=col>origin</th></tr>\n",
       "\t<tr><th scope=col>&lt;dbl&gt;</th><th scope=col>&lt;dbl&gt;</th><th scope=col>&lt;dbl&gt;</th><th scope=col>&lt;dbl&gt;</th><th scope=col>&lt;dbl&gt;</th><th scope=col>&lt;dbl&gt;</th><th scope=col>&lt;fct&gt;</th><th scope=col>&lt;chr&gt;</th></tr>\n",
       "</thead>\n",
       "<tbody>\n",
       "\t<tr><td>63</td><td>1</td><td>0</td><td>2.3</td><td>3</td><td>6</td><td>No</td><td>cleveland</td></tr>\n",
       "\t<tr><td>37</td><td>1</td><td>0</td><td>3.5</td><td>3</td><td>3</td><td>No</td><td>cleveland</td></tr>\n",
       "\t<tr><td>41</td><td>0</td><td>0</td><td>1.4</td><td>1</td><td>3</td><td>No</td><td>cleveland</td></tr>\n",
       "\t<tr><td>56</td><td>1</td><td>0</td><td>0.8</td><td>1</td><td>3</td><td>No</td><td>cleveland</td></tr>\n",
       "\t<tr><td>57</td><td>0</td><td>1</td><td>0.6</td><td>1</td><td>3</td><td>No</td><td>cleveland</td></tr>\n",
       "\t<tr><td>57</td><td>1</td><td>0</td><td>0.4</td><td>2</td><td>6</td><td>No</td><td>cleveland</td></tr>\n",
       "</tbody>\n",
       "</table>\n"
      ],
      "text/latex": [
       "A tibble: 6 × 8\n",
       "\\begin{tabular}{llllllll}\n",
       " age & sex & exercise\\_induced\\_angina & st\\_depression & st\\_segment\\_slope & thalassemia & presence\\_of\\_cvd & origin\\\\\n",
       " <dbl> & <dbl> & <dbl> & <dbl> & <dbl> & <dbl> & <fct> & <chr>\\\\\n",
       "\\hline\n",
       "\t 63 & 1 & 0 & 2.3 & 3 & 6 & No & cleveland\\\\\n",
       "\t 37 & 1 & 0 & 3.5 & 3 & 3 & No & cleveland\\\\\n",
       "\t 41 & 0 & 0 & 1.4 & 1 & 3 & No & cleveland\\\\\n",
       "\t 56 & 1 & 0 & 0.8 & 1 & 3 & No & cleveland\\\\\n",
       "\t 57 & 0 & 1 & 0.6 & 1 & 3 & No & cleveland\\\\\n",
       "\t 57 & 1 & 0 & 0.4 & 2 & 6 & No & cleveland\\\\\n",
       "\\end{tabular}\n"
      ],
      "text/markdown": [
       "\n",
       "A tibble: 6 × 8\n",
       "\n",
       "| age &lt;dbl&gt; | sex &lt;dbl&gt; | exercise_induced_angina &lt;dbl&gt; | st_depression &lt;dbl&gt; | st_segment_slope &lt;dbl&gt; | thalassemia &lt;dbl&gt; | presence_of_cvd &lt;fct&gt; | origin &lt;chr&gt; |\n",
       "|---|---|---|---|---|---|---|---|\n",
       "| 63 | 1 | 0 | 2.3 | 3 | 6 | No | cleveland |\n",
       "| 37 | 1 | 0 | 3.5 | 3 | 3 | No | cleveland |\n",
       "| 41 | 0 | 0 | 1.4 | 1 | 3 | No | cleveland |\n",
       "| 56 | 1 | 0 | 0.8 | 1 | 3 | No | cleveland |\n",
       "| 57 | 0 | 1 | 0.6 | 1 | 3 | No | cleveland |\n",
       "| 57 | 1 | 0 | 0.4 | 2 | 6 | No | cleveland |\n",
       "\n"
      ],
      "text/plain": [
       "  age sex exercise_induced_angina st_depression st_segment_slope thalassemia\n",
       "1 63  1   0                       2.3           3                6          \n",
       "2 37  1   0                       3.5           3                3          \n",
       "3 41  0   0                       1.4           1                3          \n",
       "4 56  1   0                       0.8           1                3          \n",
       "5 57  0   1                       0.6           1                3          \n",
       "6 57  1   0                       0.4           2                6          \n",
       "  presence_of_cvd origin   \n",
       "1 No              cleveland\n",
       "2 No              cleveland\n",
       "3 No              cleveland\n",
       "4 No              cleveland\n",
       "5 No              cleveland\n",
       "6 No              cleveland"
      ]
     },
     "metadata": {},
     "output_type": "display_data"
    },
    {
     "data": {
      "text/html": [
       "385"
      ],
      "text/latex": [
       "385"
      ],
      "text/markdown": [
       "385"
      ],
      "text/plain": [
       "[1] 385"
      ]
     },
     "metadata": {},
     "output_type": "display_data"
    }
   ],
   "source": [
    "head(tidy_data)\n",
    "nrow(tidy_data)"
   ]
  },
  {
   "cell_type": "code",
   "execution_count": 5,
   "id": "90b61709-9923-4095-8dd2-b53bbb86a0a4",
   "metadata": {},
   "outputs": [],
   "source": [
    "set.seed(2022)\n",
    "split_data <- initial_split(tidy_data, prop = 0.75, strata = presence_of_cvd)\n",
    "cvd_training <- training(split_data)\n",
    "cvd_testing <- testing(split_data)"
   ]
  },
  {
   "cell_type": "code",
   "execution_count": 6,
   "id": "85fff136-8e4a-4b5d-a24e-56b86052ef77",
   "metadata": {},
   "outputs": [],
   "source": [
    "# creating recipes for each combination of age + sex + x predictor\n",
    "cvd_recipe_eia <- recipe(cvd_training, presence_of_cvd ~ age + sex + exercise_induced_angina, data = cvd_training) |> \n",
    "                # step_scale(age) |> \n",
    "                # step_center(age)\n",
    "                step_scale(all_predictors()) |>\n",
    "                step_center(all_predictors())\n",
    "\n",
    "cvd_recipe_std <- recipe(cvd_training, presence_of_cvd ~ age + sex + st_depression, data = cvd_training) |> \n",
    "                # step_scale(age, st_depression) |> \n",
    "                # step_center(age, st_depression)\n",
    "                step_scale(all_predictors()) |>\n",
    "                step_center(all_predictors())\n",
    "\n",
    "cvd_recipe_stss <- recipe(cvd_training, presence_of_cvd ~ age + sex + st_segment_slope, data = cvd_training) |> \n",
    "                # step_scale(age) |> \n",
    "                # step_center(age)\n",
    "                step_scale(all_predictors()) |>\n",
    "                step_center(all_predictors())\n",
    "\n",
    "cvd_recipe_tha <- recipe(cvd_training, presence_of_cvd ~ age + sex + thalassemia, data = cvd_training) |> \n",
    "                # step_scale(age) |> \n",
    "                # step_center(age)\n",
    "                step_scale(all_predictors()) |>\n",
    "                step_center(all_predictors())"
   ]
  },
  {
   "cell_type": "code",
   "execution_count": 7,
   "id": "16ce77d3-b995-48b8-adf8-1adff6846d57",
   "metadata": {},
   "outputs": [],
   "source": [
    "knn_tune_spec <- nearest_neighbor(weight_func = 'rectangular', neighbors = tune()) |> \n",
    "                set_engine('kknn') |> \n",
    "                set_mode('classification')\n",
    "\n",
    "kvals <- tibble(neighbors = 1:20)\n",
    "cvd_vfold <- vfold_cv(cvd_training, v = 5, strata = presence_of_cvd)"
   ]
  },
  {
   "cell_type": "code",
   "execution_count": 8,
   "id": "3755f0f0-c9b0-4fa6-bfd6-76f4f32431b5",
   "metadata": {},
   "outputs": [],
   "source": [
    "# getting accuracy tibble for each recipe\n",
    "eia_acc <- workflow() |> \n",
    "            add_recipe(cvd_recipe_eia) |> \n",
    "            add_model(knn_tune_spec) |> \n",
    "            tune_grid(resamples = cvd_vfold, grid = kvals) |>\n",
    "            collect_metrics() |> \n",
    "            filter(.metric == 'accuracy')\n",
    "\n",
    "std_acc <- workflow() |> \n",
    "            add_recipe(cvd_recipe_std) |> \n",
    "            add_model(knn_tune_spec) |> \n",
    "            tune_grid(resamples = cvd_vfold, grid = kvals) |>\n",
    "            collect_metrics() |> \n",
    "            filter(.metric == 'accuracy')\n",
    "\n",
    "stss_acc <- workflow() |> \n",
    "            add_recipe(cvd_recipe_stss) |> \n",
    "            add_model(knn_tune_spec) |> \n",
    "            tune_grid(resamples = cvd_vfold, grid = kvals) |>\n",
    "            collect_metrics() |> \n",
    "            filter(.metric == 'accuracy')\n",
    "\n",
    "tha_acc <- workflow() |> \n",
    "            add_recipe(cvd_recipe_tha) |> \n",
    "            add_model(knn_tune_spec) |> \n",
    "            tune_grid(resamples = cvd_vfold, grid = kvals) |>\n",
    "            collect_metrics() |> \n",
    "            filter(.metric == 'accuracy')"
   ]
  },
  {
   "cell_type": "code",
   "execution_count": 9,
   "id": "7941af4c-1e45-404f-a910-bec58644de13",
   "metadata": {},
   "outputs": [
    {
     "data": {
      "image/png": "[encoded data removed]",
      "text/plain": [
       "plot without title"
      ]
     },
     "metadata": {
      "image/png": {
       "height": 420,
       "width": 420
      }
     },
     "output_type": "display_data"
    }
   ],
   "source": [
    "# plotting accuracy vs k for each recipe\n",
    "eia_acc_vs_k <- ggplot(eia_acc, aes(x = neighbors, y = mean)) +\n",
    "                    geom_point() +\n",
    "                    geom_line() +\n",
    "                    labs(x = \"Neighbors\", y = \"Accuracy Estimate\") + \n",
    "                    ggtitle('EIA Accuracy vs K') +\n",
    "                    ylim(0.55, 0.85) +\n",
    "                    scale_x_continuous(breaks = seq(1, 20, 2)) +\n",
    "                    theme(text = element_text(size = 12))\n",
    "\n",
    "std_acc_vs_k <- ggplot(std_acc, aes(x = neighbors, y = mean)) +\n",
    "                    geom_point() +\n",
    "                    geom_line() +\n",
    "                    labs(x = \"Neighbors\", y = \"Accuracy Estimate\") + \n",
    "                    ggtitle('STD Accuracy vs K') +\n",
    "                    ylim(0.55, 0.85) +\n",
    "                    scale_x_continuous(breaks = seq(1, 20, 2)) +\n",
    "                    theme(text = element_text(size = 12))\n",
    "\n",
    "stss_acc_vs_k <- ggplot(stss_acc, aes(x = neighbors, y = mean)) +\n",
    "                    geom_point() +\n",
    "                    geom_line() +\n",
    "                    labs(x = \"Neighbors\", y = \"Accuracy Estimate\") + \n",
    "                    ggtitle('STSS Accuracy vs K') +\n",
    "                    ylim(0.55, 0.85) +\n",
    "                    scale_x_continuous(breaks = seq(1, 20, 2)) +\n",
    "                    theme(text = element_text(size = 12))\n",
    "\n",
    "tha_acc_vs_k <- ggplot(tha_acc, aes(x = neighbors, y = mean)) +\n",
    "                    geom_point() +\n",
    "                    geom_line() +\n",
    "                    labs(x = \"Neighbors\", y = \"Accuracy Estimate\") + \n",
    "                    ggtitle('THA Accuracy vs K') +\n",
    "                    ylim(0.55, 0.85) +\n",
    "                    scale_x_continuous(breaks = seq(1, 20, 2)) +\n",
    "                    theme(text = element_text(size = 12))\n",
    "\n",
    "plot_grid(eia_acc_vs_k, std_acc_vs_k, stss_acc_vs_k, tha_acc_vs_k)"
   ]
  },
  {
   "cell_type": "code",
   "execution_count": 10,
   "id": "2be30c64-4c01-4584-89c2-5228fcd605da",
   "metadata": {},
   "outputs": [],
   "source": [
    "# expanding k range for stss and tha recipe as it looks like they continue to rise in accuracy past k = 20\n",
    "kvals_stss_tha <- tibble(neighbors = 1:30)\n",
    "\n",
    "stss_acc_2 <- workflow() |> \n",
    "            add_recipe(cvd_recipe_stss) |> \n",
    "            add_model(knn_tune_spec) |> \n",
    "            tune_grid(resamples = cvd_vfold, grid = kvals_stss_tha) |>\n",
    "            collect_metrics() |> \n",
    "            filter(.metric == 'accuracy')\n",
    "\n",
    "tha_acc_2 <- workflow() |> \n",
    "            add_recipe(cvd_recipe_tha) |> \n",
    "            add_model(knn_tune_spec) |> \n",
    "            tune_grid(resamples = cvd_vfold, grid = kvals_stss_tha) |>\n",
    "            collect_metrics() |> \n",
    "            filter(.metric == 'accuracy')"
   ]
  },
  {
   "cell_type": "code",
   "execution_count": 11,
   "id": "d1487a89-789b-4f67-983c-a6640b19cb88",
   "metadata": {},
   "outputs": [
    {
     "data": {
      "image/png": "[encoded data removed]",
      "text/plain": [
       "plot without title"
      ]
     },
     "metadata": {
      "image/png": {
       "height": 240,
       "width": 900
      }
     },
     "output_type": "display_data"
    }
   ],
   "source": [
    "stss_acc_vs_k_2 <- ggplot(stss_acc_2, aes(x = neighbors, y = mean)) +\n",
    "                    geom_point() +\n",
    "                    geom_line() +\n",
    "                    labs(x = \"Neighbors\", y = \"Accuracy Estimate\") + \n",
    "                    ggtitle('STSS Accuracy vs K') +\n",
    "                    ylim(0.55, 0.85) +\n",
    "                    scale_x_continuous(breaks = seq(1, 30, 3)) +\n",
    "                    theme(text = element_text(size = 12))\n",
    "\n",
    "tha_acc_vs_k_2 <- ggplot(tha_acc_2, aes(x = neighbors, y = mean)) +\n",
    "                    geom_point() +\n",
    "                    geom_line() +\n",
    "                    labs(x = \"Neighbors\", y = \"Accuracy Estimate\") + \n",
    "                    ggtitle('THA Accuracy vs K') +\n",
    "                    ylim(0.55, 0.85) +\n",
    "                    scale_x_continuous(breaks = seq(1, 30, 3)) +\n",
    "                    theme(text = element_text(size = 12))\n",
    "\n",
    "options(repr.plot.height = 4, repr.plot.width = 15)\n",
    "plot_grid(eia_acc_vs_k, std_acc_vs_k, stss_acc_vs_k_2, tha_acc_vs_k_2, nrow = 1, ncol = 4)"
   ]
  },
  {
   "cell_type": "markdown",
   "id": "421dfac3-f6c0-4ee8-ad2c-1f20c5835e8f",
   "metadata": {},
   "source": [
    "In the above plot, it seems that a recipe with predictors `age`, `sex`, and `thalassemia` gives the highest classifier model accuracies, thus this recipe will be used. Additionally, a value of $k = 18$ is chosen because _high acc, changing by 1 doesnt change accuracy drastically, not too high/expensive, put into proper sentences_"
   ]
  },
  {
   "cell_type": "code",
   "execution_count": 15,
   "id": "5d0d8c46-23a7-4dda-9040-4d546ad70fca",
   "metadata": {},
   "outputs": [
    {
     "data": {
      "text/html": [
       "<table class=\"dataframe\">\n",
       "<caption>A tibble: 6 × 9</caption>\n",
       "<thead>\n",
       "\t<tr><th scope=col>.pred_class</th><th scope=col>age</th><th scope=col>sex</th><th scope=col>exercise_induced_angina</th><th scope=col>st_depression</th><th scope=col>st_segment_slope</th><th scope=col>thalassemia</th><th scope=col>presence_of_cvd</th><th scope=col>origin</th></tr>\n",
       "\t<tr><th scope=col>&lt;fct&gt;</th><th scope=col>&lt;dbl&gt;</th><th scope=col>&lt;dbl&gt;</th><th scope=col>&lt;dbl&gt;</th><th scope=col>&lt;dbl&gt;</th><th scope=col>&lt;dbl&gt;</th><th scope=col>&lt;dbl&gt;</th><th scope=col>&lt;fct&gt;</th><th scope=col>&lt;chr&gt;</th></tr>\n",
       "</thead>\n",
       "<tbody>\n",
       "\t<tr><td>Yes</td><td>44</td><td>1</td><td>0</td><td>0.0</td><td>1</td><td>7</td><td>No</td><td>cleveland</td></tr>\n",
       "\t<tr><td>Yes</td><td>52</td><td>1</td><td>0</td><td>0.5</td><td>1</td><td>7</td><td>No</td><td>cleveland</td></tr>\n",
       "\t<tr><td>Yes</td><td>57</td><td>1</td><td>0</td><td>1.6</td><td>1</td><td>3</td><td>No</td><td>cleveland</td></tr>\n",
       "\t<tr><td>No </td><td>58</td><td>0</td><td>0</td><td>0.0</td><td>1</td><td>3</td><td>No</td><td>cleveland</td></tr>\n",
       "\t<tr><td>Yes</td><td>59</td><td>1</td><td>0</td><td>0.5</td><td>2</td><td>7</td><td>No</td><td>cleveland</td></tr>\n",
       "\t<tr><td>Yes</td><td>40</td><td>1</td><td>1</td><td>1.4</td><td>1</td><td>7</td><td>No</td><td>cleveland</td></tr>\n",
       "</tbody>\n",
       "</table>\n"
      ],
      "text/latex": [
       "A tibble: 6 × 9\n",
       "\\begin{tabular}{lllllllll}\n",
       " .pred\\_class & age & sex & exercise\\_induced\\_angina & st\\_depression & st\\_segment\\_slope & thalassemia & presence\\_of\\_cvd & origin\\\\\n",
       " <fct> & <dbl> & <dbl> & <dbl> & <dbl> & <dbl> & <dbl> & <fct> & <chr>\\\\\n",
       "\\hline\n",
       "\t Yes & 44 & 1 & 0 & 0.0 & 1 & 7 & No & cleveland\\\\\n",
       "\t Yes & 52 & 1 & 0 & 0.5 & 1 & 7 & No & cleveland\\\\\n",
       "\t Yes & 57 & 1 & 0 & 1.6 & 1 & 3 & No & cleveland\\\\\n",
       "\t No  & 58 & 0 & 0 & 0.0 & 1 & 3 & No & cleveland\\\\\n",
       "\t Yes & 59 & 1 & 0 & 0.5 & 2 & 7 & No & cleveland\\\\\n",
       "\t Yes & 40 & 1 & 1 & 1.4 & 1 & 7 & No & cleveland\\\\\n",
       "\\end{tabular}\n"
      ],
      "text/markdown": [
       "\n",
       "A tibble: 6 × 9\n",
       "\n",
       "| .pred_class &lt;fct&gt; | age &lt;dbl&gt; | sex &lt;dbl&gt; | exercise_induced_angina &lt;dbl&gt; | st_depression &lt;dbl&gt; | st_segment_slope &lt;dbl&gt; | thalassemia &lt;dbl&gt; | presence_of_cvd &lt;fct&gt; | origin &lt;chr&gt; |\n",
       "|---|---|---|---|---|---|---|---|---|\n",
       "| Yes | 44 | 1 | 0 | 0.0 | 1 | 7 | No | cleveland |\n",
       "| Yes | 52 | 1 | 0 | 0.5 | 1 | 7 | No | cleveland |\n",
       "| Yes | 57 | 1 | 0 | 1.6 | 1 | 3 | No | cleveland |\n",
       "| No  | 58 | 0 | 0 | 0.0 | 1 | 3 | No | cleveland |\n",
       "| Yes | 59 | 1 | 0 | 0.5 | 2 | 7 | No | cleveland |\n",
       "| Yes | 40 | 1 | 1 | 1.4 | 1 | 7 | No | cleveland |\n",
       "\n"
      ],
      "text/plain": [
       "  .pred_class age sex exercise_induced_angina st_depression st_segment_slope\n",
       "1 Yes         44  1   0                       0.0           1               \n",
       "2 Yes         52  1   0                       0.5           1               \n",
       "3 Yes         57  1   0                       1.6           1               \n",
       "4 No          58  0   0                       0.0           1               \n",
       "5 Yes         59  1   0                       0.5           2               \n",
       "6 Yes         40  1   1                       1.4           1               \n",
       "  thalassemia presence_of_cvd origin   \n",
       "1 7           No              cleveland\n",
       "2 7           No              cleveland\n",
       "3 3           No              cleveland\n",
       "4 3           No              cleveland\n",
       "5 7           No              cleveland\n",
       "6 7           No              cleveland"
      ]
     },
     "metadata": {},
     "output_type": "display_data"
    },
    {
     "data": {
      "text/html": [
       "<table class=\"dataframe\">\n",
       "<caption>A tibble: 6 × 9</caption>\n",
       "<thead>\n",
       "\t<tr><th scope=col>.pred_class</th><th scope=col>age</th><th scope=col>sex</th><th scope=col>exercise_induced_angina</th><th scope=col>st_depression</th><th scope=col>st_segment_slope</th><th scope=col>thalassemia</th><th scope=col>presence_of_cvd</th><th scope=col>origin</th></tr>\n",
       "\t<tr><th scope=col>&lt;fct&gt;</th><th scope=col>&lt;dbl&gt;</th><th scope=col>&lt;dbl&gt;</th><th scope=col>&lt;dbl&gt;</th><th scope=col>&lt;dbl&gt;</th><th scope=col>&lt;dbl&gt;</th><th scope=col>&lt;dbl&gt;</th><th scope=col>&lt;fct&gt;</th><th scope=col>&lt;chr&gt;</th></tr>\n",
       "</thead>\n",
       "<tbody>\n",
       "\t<tr><td>Yes</td><td>57</td><td>1</td><td>1</td><td>2</td><td>2</td><td>7</td><td>Yes</td><td>switzerland</td></tr>\n",
       "\t<tr><td>Yes</td><td>65</td><td>1</td><td>1</td><td>0</td><td>2</td><td>7</td><td>Yes</td><td>switzerland</td></tr>\n",
       "\t<tr><td>Yes</td><td>68</td><td>1</td><td>1</td><td>0</td><td>1</td><td>7</td><td>Yes</td><td>switzerland</td></tr>\n",
       "\t<tr><td>Yes</td><td>69</td><td>1</td><td>0</td><td>1</td><td>2</td><td>6</td><td>Yes</td><td>longbeach  </td></tr>\n",
       "\t<tr><td>Yes</td><td>57</td><td>1</td><td>1</td><td>2</td><td>2</td><td>6</td><td>Yes</td><td>longbeach  </td></tr>\n",
       "\t<tr><td>Yes</td><td>64</td><td>0</td><td>1</td><td>1</td><td>2</td><td>7</td><td>Yes</td><td>longbeach  </td></tr>\n",
       "</tbody>\n",
       "</table>\n"
      ],
      "text/latex": [
       "A tibble: 6 × 9\n",
       "\\begin{tabular}{lllllllll}\n",
       " .pred\\_class & age & sex & exercise\\_induced\\_angina & st\\_depression & st\\_segment\\_slope & thalassemia & presence\\_of\\_cvd & origin\\\\\n",
       " <fct> & <dbl> & <dbl> & <dbl> & <dbl> & <dbl> & <dbl> & <fct> & <chr>\\\\\n",
       "\\hline\n",
       "\t Yes & 57 & 1 & 1 & 2 & 2 & 7 & Yes & switzerland\\\\\n",
       "\t Yes & 65 & 1 & 1 & 0 & 2 & 7 & Yes & switzerland\\\\\n",
       "\t Yes & 68 & 1 & 1 & 0 & 1 & 7 & Yes & switzerland\\\\\n",
       "\t Yes & 69 & 1 & 0 & 1 & 2 & 6 & Yes & longbeach  \\\\\n",
       "\t Yes & 57 & 1 & 1 & 2 & 2 & 6 & Yes & longbeach  \\\\\n",
       "\t Yes & 64 & 0 & 1 & 1 & 2 & 7 & Yes & longbeach  \\\\\n",
       "\\end{tabular}\n"
      ],
      "text/markdown": [
       "\n",
       "A tibble: 6 × 9\n",
       "\n",
       "| .pred_class &lt;fct&gt; | age &lt;dbl&gt; | sex &lt;dbl&gt; | exercise_induced_angina &lt;dbl&gt; | st_depression &lt;dbl&gt; | st_segment_slope &lt;dbl&gt; | thalassemia &lt;dbl&gt; | presence_of_cvd &lt;fct&gt; | origin &lt;chr&gt; |\n",
       "|---|---|---|---|---|---|---|---|---|\n",
       "| Yes | 57 | 1 | 1 | 2 | 2 | 7 | Yes | switzerland |\n",
       "| Yes | 65 | 1 | 1 | 0 | 2 | 7 | Yes | switzerland |\n",
       "| Yes | 68 | 1 | 1 | 0 | 1 | 7 | Yes | switzerland |\n",
       "| Yes | 69 | 1 | 0 | 1 | 2 | 6 | Yes | longbeach   |\n",
       "| Yes | 57 | 1 | 1 | 2 | 2 | 6 | Yes | longbeach   |\n",
       "| Yes | 64 | 0 | 1 | 1 | 2 | 7 | Yes | longbeach   |\n",
       "\n"
      ],
      "text/plain": [
       "  .pred_class age sex exercise_induced_angina st_depression st_segment_slope\n",
       "1 Yes         57  1   1                       2             2               \n",
       "2 Yes         65  1   1                       0             2               \n",
       "3 Yes         68  1   1                       0             1               \n",
       "4 Yes         69  1   0                       1             2               \n",
       "5 Yes         57  1   1                       2             2               \n",
       "6 Yes         64  0   1                       1             2               \n",
       "  thalassemia presence_of_cvd origin     \n",
       "1 7           Yes             switzerland\n",
       "2 7           Yes             switzerland\n",
       "3 7           Yes             switzerland\n",
       "4 6           Yes             longbeach  \n",
       "5 6           Yes             longbeach  \n",
       "6 7           Yes             longbeach  "
      ]
     },
     "metadata": {},
     "output_type": "display_data"
    }
   ],
   "source": [
    "knn_spec <- nearest_neighbor(weight_func = 'rectangular', neighbors = 13) |> \n",
    "                set_engine('kknn') |> \n",
    "                set_mode('classification')\n",
    "\n",
    "cvd_tha_fit <- workflow() |> \n",
    "            add_recipe(cvd_recipe_tha) |> \n",
    "            add_model(knn_spec) |> \n",
    "            fit(data = cvd_training)\n",
    "cvd_tha_predict <- predict(cvd_tha_fit, cvd_testing) |> \n",
    "                bind_cols(cvd_testing)\n",
    "\n",
    "head(cvd_tha_predict)\n",
    "tail(cvd_tha_predict)"
   ]
  },
  {
   "cell_type": "code",
   "execution_count": 16,
   "id": "98c35a14-27d2-4121-80e8-35ce0f7c3c8c",
   "metadata": {},
   "outputs": [
    {
     "data": {
      "text/html": [
       "<table class=\"dataframe\">\n",
       "<caption>A tibble: 1 × 3</caption>\n",
       "<thead>\n",
       "\t<tr><th scope=col>.metric</th><th scope=col>.estimator</th><th scope=col>.estimate</th></tr>\n",
       "\t<tr><th scope=col>&lt;chr&gt;</th><th scope=col>&lt;chr&gt;</th><th scope=col>&lt;dbl&gt;</th></tr>\n",
       "</thead>\n",
       "<tbody>\n",
       "\t<tr><td>accuracy</td><td>binary</td><td>0.7113402</td></tr>\n",
       "</tbody>\n",
       "</table>\n"
      ],
      "text/latex": [
       "A tibble: 1 × 3\n",
       "\\begin{tabular}{lll}\n",
       " .metric & .estimator & .estimate\\\\\n",
       " <chr> & <chr> & <dbl>\\\\\n",
       "\\hline\n",
       "\t accuracy & binary & 0.7113402\\\\\n",
       "\\end{tabular}\n"
      ],
      "text/markdown": [
       "\n",
       "A tibble: 1 × 3\n",
       "\n",
       "| .metric &lt;chr&gt; | .estimator &lt;chr&gt; | .estimate &lt;dbl&gt; |\n",
       "|---|---|---|\n",
       "| accuracy | binary | 0.7113402 |\n",
       "\n"
      ],
      "text/plain": [
       "  .metric  .estimator .estimate\n",
       "1 accuracy binary     0.7113402"
      ]
     },
     "metadata": {},
     "output_type": "display_data"
    },
    {
     "data": {
      "text/plain": [
       "          Truth\n",
       "Prediction No Yes\n",
       "       No  21   6\n",
       "       Yes 22  48"
      ]
     },
     "metadata": {},
     "output_type": "display_data"
    }
   ],
   "source": [
    "cvd_tha_metrics <- cvd_tha_predict |>\n",
    "                    metrics(truth = presence_of_cvd, estimate = .pred_class) |>\n",
    "                    filter(.metric == 'accuracy')\n",
    "\n",
    "cvd_tha_confusion <- cvd_tha_predict |>\n",
    "                        conf_mat(truth = presence_of_cvd, estimate = .pred_class)\n",
    "\n",
    "cvd_tha_metrics\n",
    "cvd_tha_confusion"
   ]
  },
  {
   "cell_type": "code",
   "execution_count": 14,
   "id": "98f57b1c-bd71-481c-8f52-667c69004c6e",
   "metadata": {},
   "outputs": [],
   "source": [
    "# cvd_pairs <- select(tidy_data, age:presence_of_cvd) |> \n",
    "#                 ggpairs()\n",
    "# cvd_pairs"
   ]
  },
  {
   "cell_type": "markdown",
   "id": "3cf73166-8ab7-4600-8cd3-5cc8e69dd58f",
   "metadata": {},
   "source": [
    "1. make recipe for each combination of age, sex, + remainder\n",
    "2. cross val all recipes + tune k\n",
    "3. find best k using graph\n",
    "4. choose best recipe based on acc"
   ]
  }
 ],
 "metadata": {
  "kernelspec": {
   "display_name": "R",
   "language": "R",
   "name": "ir"
  },
  "language_info": {
   "codemirror_mode": "r",
   "file_extension": ".r",
   "mimetype": "text/x-r-source",
   "name": "R",
   "pygments_lexer": "r",
   "version": "4.1.3"
  }
 },
 "nbformat": 4,
 "nbformat_minor": 5
}
