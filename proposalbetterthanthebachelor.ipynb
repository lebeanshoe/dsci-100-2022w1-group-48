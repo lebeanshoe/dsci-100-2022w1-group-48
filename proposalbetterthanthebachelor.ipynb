{
 "cells": [
  {
   "cell_type": "markdown",
   "id": "f66d2875-4950-4ea9-875c-129dccd50c5d",
   "metadata": {},
   "source": [
    "# Classifying Heart Disease!"
   ]
  },
  {
   "cell_type": "markdown",
   "id": "424295a8-7376-4766-badb-09f65c5a82f1",
   "metadata": {},
   "source": [
    "### Introduction\n",
    "\n",
    "Here we introduce the heart disease data set found in the machine learning respository (https://archive.ics.uci.edu/ml/datasets/Heart+Disease). This database contains 76 attributes record for each patient, however, we are only going to focus on a subset of 14 attributes (this is mainly because someone went ahead and clean the data for us down to a subset of 14 kekw. However, I also noticed that attributes of smoking was also part of the datatbase data set. Unfortunately it wasn't included in this 14, but if anyone finds a way to tidy the raw data, including that attribute might be worthwhile to wrangle/classify!). The 14 attributes are as follows:\n",
    "\n",
    "1. Age\n",
    "2. Sex\n",
    "3. Chest pain type (1 = typical angina, 2 = atypical angina, 3 = non-anginal pain, 4 = asymptomatic)\n",
    "4. Resting blood pressure\n",
    "5. Serum cholestoral\n",
    "6. Fasting blood sugar\n",
    "7. Resting electrocardiographic results (0 = normal, 1 = having ST-T wave abnormality, 2 = left ventricular hypertrophy)\n",
    "8. Maximum heart rate achieved\n",
    "9. Exercise induced angina\n",
    "10. Oldpeak = ST depression induced by exercise relative to rest\n",
    "11. Slope of the peak exercise ST segment\n",
    "12. Number of major vessels colored by flourosopy\n",
    "13. Thalassemia (3 = normal, 6 - fixed defect, 7 = reversable defect)\n",
    "14. Diagnosis of heart disease (0 = no presence, 1-4 = increasing severity?)\n",
    "\n",
    "I'm going to attempt to narrow down the attributes we used from this list of 14 by creating scatter plots of Diagnosis of heart disease vs. \"other attribute.\" This should be a good starting point for our proposal.\n"
   ]
  },
  {
   "cell_type": "markdown",
   "id": "dfd23646-e4d6-4132-85c7-5761968e8e8c",
   "metadata": {},
   "source": [
    "### Preliminary Exploratory Data Analysis/Method\n",
    "\n"
   ]
  },
  {
   "cell_type": "code",
   "execution_count": 1,
   "id": "ca52eac3-d30d-47b0-bfe4-9c90236cc063",
   "metadata": {},
   "outputs": [
    {
     "name": "stderr",
     "output_type": "stream",
     "text": [
      "── \u001b[1mAttaching packages\u001b[22m ─────────────────────────────────────── tidyverse 1.3.1 ──\n",
      "\n",
      "\u001b[32m✔\u001b[39m \u001b[34mggplot2\u001b[39m 3.3.6     \u001b[32m✔\u001b[39m \u001b[34mpurrr  \u001b[39m 0.3.4\n",
      "\u001b[32m✔\u001b[39m \u001b[34mtibble \u001b[39m 3.1.7     \u001b[32m✔\u001b[39m \u001b[34mdplyr  \u001b[39m 1.0.9\n",
      "\u001b[32m✔\u001b[39m \u001b[34mtidyr  \u001b[39m 1.2.0     \u001b[32m✔\u001b[39m \u001b[34mstringr\u001b[39m 1.4.0\n",
      "\u001b[32m✔\u001b[39m \u001b[34mreadr  \u001b[39m 2.1.2     \u001b[32m✔\u001b[39m \u001b[34mforcats\u001b[39m 0.5.1\n",
      "\n",
      "── \u001b[1mConflicts\u001b[22m ────────────────────────────────────────── tidyverse_conflicts() ──\n",
      "\u001b[31m✖\u001b[39m \u001b[34mdplyr\u001b[39m::\u001b[32mfilter()\u001b[39m masks \u001b[34mstats\u001b[39m::filter()\n",
      "\u001b[31m✖\u001b[39m \u001b[34mdplyr\u001b[39m::\u001b[32mlag()\u001b[39m    masks \u001b[34mstats\u001b[39m::lag()\n",
      "\n"
     ]
    }
   ],
   "source": [
    "library(tidyverse)"
   ]
  },
  {
   "cell_type": "code",
   "execution_count": 2,
   "id": "afb94902-d62f-4b0d-a4f2-f7cfda673f05",
   "metadata": {},
   "outputs": [
    {
     "name": "stderr",
     "output_type": "stream",
     "text": [
      "\u001b[1mRows: \u001b[22m\u001b[34m303\u001b[39m \u001b[1mColumns: \u001b[22m\u001b[34m14\u001b[39m\n",
      "\u001b[36m──\u001b[39m \u001b[1mColumn specification\u001b[22m \u001b[36m────────────────────────────────────────────────────────\u001b[39m\n",
      "\u001b[1mDelimiter:\u001b[22m \",\"\n",
      "\u001b[31mchr\u001b[39m  (2): X12, X13\n",
      "\u001b[32mdbl\u001b[39m (12): X1, X2, X3, X4, X5, X6, X7, X8, X9, X10, X11, X14\n",
      "\n",
      "\u001b[36mℹ\u001b[39m Use `spec()` to retrieve the full column specification for this data.\n",
      "\u001b[36mℹ\u001b[39m Specify the column types or set `show_col_types = FALSE` to quiet this message.\n",
      "\u001b[1mRows: \u001b[22m\u001b[34m294\u001b[39m \u001b[1mColumns: \u001b[22m\u001b[34m14\u001b[39m\n",
      "\u001b[36m──\u001b[39m \u001b[1mColumn specification\u001b[22m \u001b[36m────────────────────────────────────────────────────────\u001b[39m\n",
      "\u001b[1mDelimiter:\u001b[22m \",\"\n",
      "\u001b[31mchr\u001b[39m (9): X4, X5, X6, X7, X8, X9, X11, X12, X13\n",
      "\u001b[32mdbl\u001b[39m (5): X1, X2, X3, X10, X14\n",
      "\n",
      "\u001b[36mℹ\u001b[39m Use `spec()` to retrieve the full column specification for this data.\n",
      "\u001b[36mℹ\u001b[39m Specify the column types or set `show_col_types = FALSE` to quiet this message.\n",
      "\u001b[1mRows: \u001b[22m\u001b[34m123\u001b[39m \u001b[1mColumns: \u001b[22m\u001b[34m14\u001b[39m\n",
      "\u001b[36m──\u001b[39m \u001b[1mColumn specification\u001b[22m \u001b[36m────────────────────────────────────────────────────────\u001b[39m\n",
      "\u001b[1mDelimiter:\u001b[22m \",\"\n",
      "\u001b[31mchr\u001b[39m (9): X4, X6, X7, X8, X9, X10, X11, X12, X13\n",
      "\u001b[32mdbl\u001b[39m (5): X1, X2, X3, X5, X14\n",
      "\n",
      "\u001b[36mℹ\u001b[39m Use `spec()` to retrieve the full column specification for this data.\n",
      "\u001b[36mℹ\u001b[39m Specify the column types or set `show_col_types = FALSE` to quiet this message.\n",
      "\u001b[1mRows: \u001b[22m\u001b[34m200\u001b[39m \u001b[1mColumns: \u001b[22m\u001b[34m14\u001b[39m\n",
      "\u001b[36m──\u001b[39m \u001b[1mColumn specification\u001b[22m \u001b[36m────────────────────────────────────────────────────────\u001b[39m\n",
      "\u001b[1mDelimiter:\u001b[22m \",\"\n",
      "\u001b[31mchr\u001b[39m (9): X4, X5, X6, X8, X9, X10, X11, X12, X13\n",
      "\u001b[32mdbl\u001b[39m (5): X1, X2, X3, X7, X14\n",
      "\n",
      "\u001b[36mℹ\u001b[39m Use `spec()` to retrieve the full column specification for this data.\n",
      "\u001b[36mℹ\u001b[39m Specify the column types or set `show_col_types = FALSE` to quiet this message.\n"
     ]
    }
   ],
   "source": [
    "#Loading the Data\n",
    "cleveland_data <- read_delim(\"processed.cleveland.data\", col_names = FALSE)\n",
    "hungarian_data <- read_delim(\"processed.hungarian.data\", col_names = FALSE)\n",
    "switzerland_data <- read_delim(\"processed.switzerland.data\", col_names = FALSE)\n",
    "va_data <- read_delim(\"processed.va.data\", col_names = FALSE)"
   ]
  },
  {
   "cell_type": "code",
   "execution_count": 3,
   "id": "31f15446-786c-485a-b335-9880410ceb79",
   "metadata": {},
   "outputs": [
    {
     "name": "stdout",
     "output_type": "stream",
     "text": [
      "Rows: 920\n",
      "Columns: 15\n",
      "$ age      \u001b[3m\u001b[90m<dbl>\u001b[39m\u001b[23m 63, 67, 67, 37, 41, 56, 62, 57, 63, 53, 57, 56, 56, 44, 52, 5…\n",
      "$ sex      \u001b[3m\u001b[90m<dbl>\u001b[39m\u001b[23m 1, 1, 1, 1, 0, 1, 0, 0, 1, 1, 1, 0, 1, 1, 1, 1, 1, 1, 0, 1, 1…\n",
      "$ cp       \u001b[3m\u001b[90m<dbl>\u001b[39m\u001b[23m 1, 4, 4, 3, 2, 2, 4, 4, 4, 4, 4, 2, 3, 2, 3, 3, 2, 4, 3, 2, 1…\n",
      "$ trestbps \u001b[3m\u001b[90m<chr>\u001b[39m\u001b[23m \"145\", \"160\", \"120\", \"130\", \"130\", \"120\", \"140\", \"120\", \"130\"…\n",
      "$ chol     \u001b[3m\u001b[90m<chr>\u001b[39m\u001b[23m \"233\", \"286\", \"229\", \"250\", \"204\", \"236\", \"268\", \"354\", \"254\"…\n",
      "$ fbs      \u001b[3m\u001b[90m<chr>\u001b[39m\u001b[23m \"1\", \"0\", \"0\", \"0\", \"0\", \"0\", \"0\", \"0\", \"0\", \"1\", \"0\", \"0\", \"…\n",
      "$ restecg  \u001b[3m\u001b[90m<chr>\u001b[39m\u001b[23m \"2\", \"2\", \"2\", \"0\", \"2\", \"0\", \"2\", \"0\", \"2\", \"2\", \"0\", \"2\", \"…\n",
      "$ thalach  \u001b[3m\u001b[90m<chr>\u001b[39m\u001b[23m \"150\", \"108\", \"129\", \"187\", \"172\", \"178\", \"160\", \"163\", \"147\"…\n",
      "$ exang    \u001b[3m\u001b[90m<chr>\u001b[39m\u001b[23m \"0\", \"1\", \"1\", \"0\", \"0\", \"0\", \"0\", \"1\", \"0\", \"1\", \"0\", \"0\", \"…\n",
      "$ oldpeak  \u001b[3m\u001b[90m<chr>\u001b[39m\u001b[23m \"2.3\", \"1.5\", \"2.6\", \"3.5\", \"1.4\", \"0.8\", \"3.6\", \"0.6\", \"1.4\"…\n",
      "$ slope    \u001b[3m\u001b[90m<chr>\u001b[39m\u001b[23m \"3\", \"2\", \"2\", \"3\", \"1\", \"1\", \"3\", \"1\", \"2\", \"3\", \"2\", \"2\", \"…\n",
      "$ ca       \u001b[3m\u001b[90m<chr>\u001b[39m\u001b[23m \"0.0\", \"3.0\", \"2.0\", \"0.0\", \"0.0\", \"0.0\", \"2.0\", \"0.0\", \"1.0\"…\n",
      "$ thal     \u001b[3m\u001b[90m<chr>\u001b[39m\u001b[23m \"6.0\", \"3.0\", \"7.0\", \"3.0\", \"3.0\", \"3.0\", \"3.0\", \"3.0\", \"7.0\"…\n",
      "$ num      \u001b[3m\u001b[90m<dbl>\u001b[39m\u001b[23m 0, 2, 1, 0, 0, 0, 3, 0, 2, 1, 0, 0, 2, 0, 0, 0, 1, 0, 0, 0, 0…\n",
      "$ origin   \u001b[3m\u001b[90m<chr>\u001b[39m\u001b[23m \"cleveland\", \"cleveland\", \"cleveland\", \"cleveland\", \"clevelan…\n"
     ]
    }
   ],
   "source": [
    "#Adding the origin category for each row\n",
    "cleveland_data <- mutate(cleveland_data, Origin = \"cleveland\")\n",
    "hungarian_data <- mutate(hungarian_data, Origin = \"hungarian\")\n",
    "switzerland_data <- mutate(switzerland_data, Origin = \"switzerland\")\n",
    "va_data <- mutate(va_data, Origin = \"Longbeach\")\n",
    "\n",
    "#Creating names for each column\n",
    "column_names = c(\"age\", \"sex\", \"cp\", \"trestbps\", \"chol\", \"fbs\", \"restecg\", \"thalach\", \"exang\", \"oldpeak\", \"slope\", \"ca\", \"thal\", \"num\", \"origin\")\n",
    "\n",
    "#Adding names to columns\n",
    "colnames(cleveland_data) <- column_names\n",
    "colnames(hungarian_data) <- column_names\n",
    "colnames(switzerland_data) <- column_names\n",
    "colnames(va_data) <- column_names\n",
    "\n",
    "#Combining the data into a mega data set\n",
    "heart_data <- rbind(cleveland_data, hungarian_data, switzerland_data, va_data)\n",
    "\n",
    "glimpse(heart_data)"
   ]
  },
  {
   "cell_type": "code",
   "execution_count": 21,
   "id": "385fde77-bf83-4619-bbac-336fc4bf780a",
   "metadata": {},
   "outputs": [
    {
     "data": {
      "text/html": [
       "<table class=\"dataframe\">\n",
       "<caption>A grouped_df: 5 × 2</caption>\n",
       "<thead>\n",
       "\t<tr><th scope=col>Severity Level of HD</th><th scope=col>Total_Count</th></tr>\n",
       "\t<tr><th scope=col>&lt;dbl&gt;</th><th scope=col>&lt;int&gt;</th></tr>\n",
       "</thead>\n",
       "<tbody>\n",
       "\t<tr><td>0</td><td>411</td></tr>\n",
       "\t<tr><td>1</td><td>265</td></tr>\n",
       "\t<tr><td>2</td><td>109</td></tr>\n",
       "\t<tr><td>3</td><td>107</td></tr>\n",
       "\t<tr><td>4</td><td> 28</td></tr>\n",
       "</tbody>\n",
       "</table>\n"
      ],
      "text/latex": [
       "A grouped\\_df: 5 × 2\n",
       "\\begin{tabular}{ll}\n",
       " Severity Level of HD & Total\\_Count\\\\\n",
       " <dbl> & <int>\\\\\n",
       "\\hline\n",
       "\t 0 & 411\\\\\n",
       "\t 1 & 265\\\\\n",
       "\t 2 & 109\\\\\n",
       "\t 3 & 107\\\\\n",
       "\t 4 &  28\\\\\n",
       "\\end{tabular}\n"
      ],
      "text/markdown": [
       "\n",
       "A grouped_df: 5 × 2\n",
       "\n",
       "| Severity Level of HD &lt;dbl&gt; | Total_Count &lt;int&gt; |\n",
       "|---|---|\n",
       "| 0 | 411 |\n",
       "| 1 | 265 |\n",
       "| 2 | 109 |\n",
       "| 3 | 107 |\n",
       "| 4 |  28 |\n",
       "\n"
      ],
      "text/plain": [
       "  Severity Level of HD Total_Count\n",
       "1 0                    411        \n",
       "2 1                    265        \n",
       "3 2                    109        \n",
       "4 3                    107        \n",
       "5 4                     28        "
      ]
     },
     "metadata": {},
     "output_type": "display_data"
    },
    {
     "data": {
      "text/html": [
       "<table class=\"dataframe\">\n",
       "<caption>A grouped_df: 5 × 2</caption>\n",
       "<thead>\n",
       "\t<tr><th scope=col>Severity Level of HD</th><th scope=col>C_Count</th></tr>\n",
       "\t<tr><th scope=col>&lt;dbl&gt;</th><th scope=col>&lt;int&gt;</th></tr>\n",
       "</thead>\n",
       "<tbody>\n",
       "\t<tr><td>0</td><td>164</td></tr>\n",
       "\t<tr><td>1</td><td> 55</td></tr>\n",
       "\t<tr><td>2</td><td> 36</td></tr>\n",
       "\t<tr><td>3</td><td> 35</td></tr>\n",
       "\t<tr><td>4</td><td> 13</td></tr>\n",
       "</tbody>\n",
       "</table>\n"
      ],
      "text/latex": [
       "A grouped\\_df: 5 × 2\n",
       "\\begin{tabular}{ll}\n",
       " Severity Level of HD & C\\_Count\\\\\n",
       " <dbl> & <int>\\\\\n",
       "\\hline\n",
       "\t 0 & 164\\\\\n",
       "\t 1 &  55\\\\\n",
       "\t 2 &  36\\\\\n",
       "\t 3 &  35\\\\\n",
       "\t 4 &  13\\\\\n",
       "\\end{tabular}\n"
      ],
      "text/markdown": [
       "\n",
       "A grouped_df: 5 × 2\n",
       "\n",
       "| Severity Level of HD &lt;dbl&gt; | C_Count &lt;int&gt; |\n",
       "|---|---|\n",
       "| 0 | 164 |\n",
       "| 1 |  55 |\n",
       "| 2 |  36 |\n",
       "| 3 |  35 |\n",
       "| 4 |  13 |\n",
       "\n"
      ],
      "text/plain": [
       "  Severity Level of HD C_Count\n",
       "1 0                    164    \n",
       "2 1                     55    \n",
       "3 2                     36    \n",
       "4 3                     35    \n",
       "5 4                     13    "
      ]
     },
     "metadata": {},
     "output_type": "display_data"
    },
    {
     "data": {
      "text/html": [
       "<table class=\"dataframe\">\n",
       "<caption>A grouped_df: 2 × 2</caption>\n",
       "<thead>\n",
       "\t<tr><th scope=col>Severity Level of HD</th><th scope=col>H_Count</th></tr>\n",
       "\t<tr><th scope=col>&lt;dbl&gt;</th><th scope=col>&lt;int&gt;</th></tr>\n",
       "</thead>\n",
       "<tbody>\n",
       "\t<tr><td>0</td><td>188</td></tr>\n",
       "\t<tr><td>1</td><td>106</td></tr>\n",
       "</tbody>\n",
       "</table>\n"
      ],
      "text/latex": [
       "A grouped\\_df: 2 × 2\n",
       "\\begin{tabular}{ll}\n",
       " Severity Level of HD & H\\_Count\\\\\n",
       " <dbl> & <int>\\\\\n",
       "\\hline\n",
       "\t 0 & 188\\\\\n",
       "\t 1 & 106\\\\\n",
       "\\end{tabular}\n"
      ],
      "text/markdown": [
       "\n",
       "A grouped_df: 2 × 2\n",
       "\n",
       "| Severity Level of HD &lt;dbl&gt; | H_Count &lt;int&gt; |\n",
       "|---|---|\n",
       "| 0 | 188 |\n",
       "| 1 | 106 |\n",
       "\n"
      ],
      "text/plain": [
       "  Severity Level of HD H_Count\n",
       "1 0                    188    \n",
       "2 1                    106    "
      ]
     },
     "metadata": {},
     "output_type": "display_data"
    },
    {
     "data": {
      "text/html": [
       "<table class=\"dataframe\">\n",
       "<caption>A grouped_df: 5 × 2</caption>\n",
       "<thead>\n",
       "\t<tr><th scope=col>Severity Level of HD</th><th scope=col>S_Count</th></tr>\n",
       "\t<tr><th scope=col>&lt;dbl&gt;</th><th scope=col>&lt;int&gt;</th></tr>\n",
       "</thead>\n",
       "<tbody>\n",
       "\t<tr><td>0</td><td> 8</td></tr>\n",
       "\t<tr><td>1</td><td>48</td></tr>\n",
       "\t<tr><td>2</td><td>32</td></tr>\n",
       "\t<tr><td>3</td><td>30</td></tr>\n",
       "\t<tr><td>4</td><td> 5</td></tr>\n",
       "</tbody>\n",
       "</table>\n"
      ],
      "text/latex": [
       "A grouped\\_df: 5 × 2\n",
       "\\begin{tabular}{ll}\n",
       " Severity Level of HD & S\\_Count\\\\\n",
       " <dbl> & <int>\\\\\n",
       "\\hline\n",
       "\t 0 &  8\\\\\n",
       "\t 1 & 48\\\\\n",
       "\t 2 & 32\\\\\n",
       "\t 3 & 30\\\\\n",
       "\t 4 &  5\\\\\n",
       "\\end{tabular}\n"
      ],
      "text/markdown": [
       "\n",
       "A grouped_df: 5 × 2\n",
       "\n",
       "| Severity Level of HD &lt;dbl&gt; | S_Count &lt;int&gt; |\n",
       "|---|---|\n",
       "| 0 |  8 |\n",
       "| 1 | 48 |\n",
       "| 2 | 32 |\n",
       "| 3 | 30 |\n",
       "| 4 |  5 |\n",
       "\n"
      ],
      "text/plain": [
       "  Severity Level of HD S_Count\n",
       "1 0                     8     \n",
       "2 1                    48     \n",
       "3 2                    32     \n",
       "4 3                    30     \n",
       "5 4                     5     "
      ]
     },
     "metadata": {},
     "output_type": "display_data"
    },
    {
     "data": {
      "text/html": [
       "<table class=\"dataframe\">\n",
       "<caption>A grouped_df: 5 × 2</caption>\n",
       "<thead>\n",
       "\t<tr><th scope=col>Severity Level of HD</th><th scope=col>V_Count</th></tr>\n",
       "\t<tr><th scope=col>&lt;dbl&gt;</th><th scope=col>&lt;int&gt;</th></tr>\n",
       "</thead>\n",
       "<tbody>\n",
       "\t<tr><td>0</td><td>51</td></tr>\n",
       "\t<tr><td>1</td><td>56</td></tr>\n",
       "\t<tr><td>2</td><td>41</td></tr>\n",
       "\t<tr><td>3</td><td>42</td></tr>\n",
       "\t<tr><td>4</td><td>10</td></tr>\n",
       "</tbody>\n",
       "</table>\n"
      ],
      "text/latex": [
       "A grouped\\_df: 5 × 2\n",
       "\\begin{tabular}{ll}\n",
       " Severity Level of HD & V\\_Count\\\\\n",
       " <dbl> & <int>\\\\\n",
       "\\hline\n",
       "\t 0 & 51\\\\\n",
       "\t 1 & 56\\\\\n",
       "\t 2 & 41\\\\\n",
       "\t 3 & 42\\\\\n",
       "\t 4 & 10\\\\\n",
       "\\end{tabular}\n"
      ],
      "text/markdown": [
       "\n",
       "A grouped_df: 5 × 2\n",
       "\n",
       "| Severity Level of HD &lt;dbl&gt; | V_Count &lt;int&gt; |\n",
       "|---|---|\n",
       "| 0 | 51 |\n",
       "| 1 | 56 |\n",
       "| 2 | 41 |\n",
       "| 3 | 42 |\n",
       "| 4 | 10 |\n",
       "\n"
      ],
      "text/plain": [
       "  Severity Level of HD V_Count\n",
       "1 0                    51     \n",
       "2 1                    56     \n",
       "3 2                    41     \n",
       "4 3                    42     \n",
       "5 4                    10     "
      ]
     },
     "metadata": {},
     "output_type": "display_data"
    }
   ],
   "source": [
    "#Summarizing the presence of heart disease in the patient. 0 is no presence.\n",
    "total_stats <-  heart_data |> group_by(num) |> count() |> rename(\"Severity Level of HD\" = num, \"Total_Count\" = n)\n",
    "c_stats <- cleveland_data |> group_by(num) |> count() |> rename(\"Severity Level of HD\" = num, \"C_Count\" = n)\n",
    "h_stats <- hungarian_data |> group_by(num) |> count() |> rename(\"Severity Level of HD\" = num, \"H_Count\" = n)\n",
    "s_stats <- switzerland_data |> group_by(num) |> count() |> rename(\"Severity Level of HD\" = num, \"S_Count\" = n)\n",
    "v_stats <- va_data |> group_by(num) |> count() |> rename(\"Severity Level of HD\" = num, \"V_Count\" = n)\n",
    "\n",
    "#Here we notice that the hungarian data could skew our results as it only classified should we keep the 0-4 values in the diagnosis?\n",
    "total_stats\n",
    "c_stats\n",
    "h_stats\n",
    "s_stats\n",
    "v_stats"
   ]
  },
  {
   "cell_type": "markdown",
   "id": "b9f2e8bf-5257-499e-b22f-3aa5b0a74cda",
   "metadata": {},
   "source": [
    "### Expected Outcomes and Significance\n",
    "\n"
   ]
  }
 ],
 "metadata": {
  "kernelspec": {
   "display_name": "R",
   "language": "R",
   "name": "ir"
  },
  "language_info": {
   "codemirror_mode": "r",
   "file_extension": ".r",
   "mimetype": "text/x-r-source",
   "name": "R",
   "pygments_lexer": "r",
   "version": "4.1.3"
  }
 },
 "nbformat": 4,
 "nbformat_minor": 5
}
